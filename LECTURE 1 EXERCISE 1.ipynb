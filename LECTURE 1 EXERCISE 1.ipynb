{
 "cells": [
  {
   "cell_type": "markdown",
   "id": "1b39e0d0",
   "metadata": {},
   "source": [
    "Exer:2\n",
    "\n",
    "#Python programming"
   ]
  },
  {
   "cell_type": "markdown",
   "id": "a619cde2",
   "metadata": {},
   "source": [
    "Exer:3\n",
    "\n"
   ]
  },
  {
   "cell_type": "code",
   "execution_count": 3,
   "id": "ceb4b0bc",
   "metadata": {},
   "outputs": [],
   "source": [
    "first_name='Hanifa'\n"
   ]
  },
  {
   "cell_type": "markdown",
   "id": "85e1456d",
   "metadata": {},
   "source": [
    "Exer:4"
   ]
  },
  {
   "cell_type": "code",
   "execution_count": 5,
   "id": "bd9a3851",
   "metadata": {},
   "outputs": [],
   "source": [
    "last_name='umar'"
   ]
  },
  {
   "cell_type": "markdown",
   "id": "073389c4",
   "metadata": {},
   "source": [
    "Exer:5"
   ]
  },
  {
   "cell_type": "code",
   "execution_count": 6,
   "id": "3bead1e9",
   "metadata": {},
   "outputs": [],
   "source": [
    "full_name='Hanifa umar'\n"
   ]
  },
  {
   "cell_type": "markdown",
   "id": "4624619b",
   "metadata": {},
   "source": [
    "Exer:6\n"
   ]
  },
  {
   "cell_type": "code",
   "execution_count": 1,
   "id": "4cd921ea",
   "metadata": {},
   "outputs": [],
   "source": [
    "country_name='Nigeria'\n"
   ]
  },
  {
   "cell_type": "markdown",
   "id": "d9e8742b",
   "metadata": {},
   "source": [
    "Exer 7"
   ]
  },
  {
   "cell_type": "code",
   "execution_count": 2,
   "id": "12092f57",
   "metadata": {},
   "outputs": [],
   "source": [
    "city ='Gombe'"
   ]
  },
  {
   "cell_type": "markdown",
   "id": "cb2b3661",
   "metadata": {},
   "source": [
    "exer 8"
   ]
  },
  {
   "cell_type": "code",
   "execution_count": 4,
   "id": "6bd484fc",
   "metadata": {},
   "outputs": [],
   "source": [
    "age='30'\n"
   ]
  },
  {
   "cell_type": "markdown",
   "id": "2be67bc9",
   "metadata": {},
   "source": [
    "Exer 9"
   ]
  },
  {
   "cell_type": "code",
   "execution_count": 5,
   "id": "e04ebaac",
   "metadata": {},
   "outputs": [],
   "source": [
    "year='2024'"
   ]
  },
  {
   "cell_type": "markdown",
   "id": "48fe26db",
   "metadata": {},
   "source": [
    "Exer 10"
   ]
  },
  {
   "cell_type": "code",
   "execution_count": 12,
   "id": "40f11596",
   "metadata": {},
   "outputs": [],
   "source": [
    "is_married='true'"
   ]
  },
  {
   "cell_type": "markdown",
   "id": "ba0e2faa",
   "metadata": {},
   "source": [
    "Exer 11"
   ]
  },
  {
   "cell_type": "code",
   "execution_count": 9,
   "id": "98b9aa19",
   "metadata": {},
   "outputs": [],
   "source": [
    "is_true='yes'"
   ]
  },
  {
   "cell_type": "markdown",
   "id": "eda71fb2",
   "metadata": {},
   "source": [
    "Exer 12\n"
   ]
  },
  {
   "cell_type": "code",
   "execution_count": 10,
   "id": "edd10a56",
   "metadata": {},
   "outputs": [],
   "source": [
    "is_light_on='yes'"
   ]
  },
  {
   "cell_type": "markdown",
   "id": "665cf158",
   "metadata": {},
   "source": [
    "Exer 13"
   ]
  },
  {
   "cell_type": "code",
   "execution_count": 10,
   "id": "62fb719e",
   "metadata": {},
   "outputs": [],
   "source": [
    "first_name,last_name,country,age,is_married,is_true='Hanifa','Umar','Nigeria','30','true','yes'"
   ]
  },
  {
   "cell_type": "markdown",
   "id": "aa7bf39b",
   "metadata": {},
   "source": [
    "Exercises: Level 2"
   ]
  },
  {
   "cell_type": "markdown",
   "id": "86778a0c",
   "metadata": {},
   "source": [
    "Exer 1"
   ]
  },
  {
   "cell_type": "code",
   "execution_count": 4,
   "id": "3a365d6b",
   "metadata": {},
   "outputs": [
    {
     "name": "stdout",
     "output_type": "stream",
     "text": [
      "<class 'str'>\n",
      "<class 'str'>\n",
      "<class 'str'>\n",
      "<class 'str'>\n",
      "<class 'str'>\n",
      "<class 'str'>\n",
      "<class 'str'>\n",
      "<class 'str'>\n",
      "<class 'str'>\n",
      "<class 'float'>\n"
     ]
    }
   ],
   "source": [
    "print(type('first_name'))\n",
    "print(type('last_name'))\n",
    "print(type('country'))\n",
    "print(type('age'))\n",
    "print(type('city'))\n",
    "print(type('year'))\n",
    "print(type('is_married'))\n",
    "print(type('is_true'))\n",
    "print(type('is_light_on'))\n",
    "print(type(30.00))"
   ]
  },
  {
   "cell_type": "markdown",
   "id": "9fe97c97",
   "metadata": {},
   "source": [
    "Exer 2"
   ]
  },
  {
   "cell_type": "code",
   "execution_count": 9,
   "id": "6e5ea674",
   "metadata": {},
   "outputs": [
    {
     "name": "stdout",
     "output_type": "stream",
     "text": [
      "6\n"
     ]
    }
   ],
   "source": [
    "print(len('Hanifa'))\n"
   ]
  },
  {
   "cell_type": "markdown",
   "id": "78573e2c",
   "metadata": {},
   "source": [
    "Exer 3"
   ]
  },
  {
   "cell_type": "code",
   "execution_count": 17,
   "id": "a0f45e64",
   "metadata": {},
   "outputs": [
    {
     "name": "stdout",
     "output_type": "stream",
     "text": [
      "6\n",
      "4\n"
     ]
    },
    {
     "data": {
      "text/plain": [
       "(None, None)"
      ]
     },
     "execution_count": 17,
     "metadata": {},
     "output_type": "execute_result"
    }
   ],
   "source": [
    "print(len('Hanifa')) ,print(len('Umar'))"
   ]
  },
  {
   "cell_type": "markdown",
   "id": "01c16949",
   "metadata": {},
   "source": [
    "Exer 4"
   ]
  },
  {
   "cell_type": "code",
   "execution_count": 43,
   "id": "6cc2efa3",
   "metadata": {},
   "outputs": [
    {
     "name": "stdout",
     "output_type": "stream",
     "text": [
      "9\n",
      "Total: 7\n"
     ]
    }
   ],
   "source": [
    "num_one='5'\n",
    "num_two='4'\n",
    "print (5 + 4)\n",
    "total='9'\n",
    "print('Total:',total)\n"
   ]
  },
  {
   "cell_type": "markdown",
   "id": "41a6fb80",
   "metadata": {},
   "source": [
    "Exer 5"
   ]
  },
  {
   "cell_type": "code",
   "execution_count": 46,
   "id": "e6e59550",
   "metadata": {
    "scrolled": true
   },
   "outputs": [
    {
     "name": "stdout",
     "output_type": "stream",
     "text": [
      "1\n",
      "diff: 1\n"
     ]
    }
   ],
   "source": [
    "num_one='5'\n",
    "num_two='4'\n",
    "print (5 - 4)\n",
    "diff='1'\n",
    "print('diff:',diff)\n"
   ]
  },
  {
   "cell_type": "code",
   "execution_count": 47,
   "id": "91b0daad",
   "metadata": {},
   "outputs": [
    {
     "name": "stdout",
     "output_type": "stream",
     "text": [
      "20\n",
      "product: 20\n"
     ]
    }
   ],
   "source": [
    "num_one='5'\n",
    "num_two='4'\n",
    "print (5 * 4)\n",
    "product='20'\n",
    "print('product:',product)\n"
   ]
  },
  {
   "cell_type": "code",
   "execution_count": 49,
   "id": "4135c920",
   "metadata": {},
   "outputs": [
    {
     "name": "stdout",
     "output_type": "stream",
     "text": [
      "1.25\n",
      "division: 1.25\n"
     ]
    }
   ],
   "source": [
    "num_one='5'\n",
    "num_two='4'\n",
    "print (5 / 4)\n",
    "division='1.25'\n",
    "print('division:',division)\n"
   ]
  },
  {
   "cell_type": "code",
   "execution_count": 59,
   "id": "b5ce49cc",
   "metadata": {},
   "outputs": [
    {
     "name": "stdout",
     "output_type": "stream",
     "text": [
      "1\n",
      "remainder: 1\n"
     ]
    }
   ],
   "source": [
    "num_one='5'\n",
    "num_two='4'\n",
    "print (5 % 4)\n",
    "remainder='1'\n",
    "print('remainder:',remainder)"
   ]
  },
  {
   "cell_type": "code",
   "execution_count": 55,
   "id": "016404c9",
   "metadata": {},
   "outputs": [
    {
     "name": "stdout",
     "output_type": "stream",
     "text": [
      "625\n",
      "exp: 625\n"
     ]
    }
   ],
   "source": [
    "num_one='5'\n",
    "num_two='4'\n",
    "print (5 ** 4)\n",
    "exp='625'\n",
    "print('exp:',exp)"
   ]
  },
  {
   "cell_type": "code",
   "execution_count": 56,
   "id": "3efce999",
   "metadata": {},
   "outputs": [
    {
     "name": "stdout",
     "output_type": "stream",
     "text": [
      "1\n",
      "floor_division: 1\n"
     ]
    }
   ],
   "source": [
    "num_one='5'\n",
    "num_two='4'\n",
    "print (5 // 4)\n",
    "floor_division='1'\n",
    "print('floor_division:',floor_division)"
   ]
  },
  {
   "cell_type": "markdown",
   "id": "b98a33c0",
   "metadata": {},
   "source": [
    "Exer 5"
   ]
  },
  {
   "cell_type": "code",
   "execution_count": 24,
   "id": "c5d690fb",
   "metadata": {},
   "outputs": [
    {
     "name": "stdout",
     "output_type": "stream",
     "text": [
      "Enter the radius of the circle:30\n",
      "area of a circle is: 2827.4333882308138\n"
     ]
    }
   ],
   "source": [
    "import math\n",
    "radius=float(input('Enter the radius of the circle:'))\n",
    "area=math.pi*radius*radius\n",
    "print('area of a circle is:',area)\n"
   ]
  },
  {
   "cell_type": "code",
   "execution_count": 26,
   "id": "a53200fd",
   "metadata": {},
   "outputs": [
    {
     "name": "stdout",
     "output_type": "stream",
     "text": [
      "Enter the radius of the circle:30\n",
      "circumference of a circle is: 188.49555921538757\n",
      "area of a circle is: 2827.4333882308138\n"
     ]
    }
   ],
   "source": [
    "import math\n",
    "radius=float(input('Enter the radius of the circle:'))\n",
    "circum_of_a_circle =math.pi*radius*2\n",
    "print('circumference of a circle is:',circum_of_a_circle)\n",
    "print('area of a circle is:',area)\n"
   ]
  },
  {
   "cell_type": "code",
   "execution_count": 21,
   "id": "e36c0d20",
   "metadata": {},
   "outputs": [
    {
     "name": "stdout",
     "output_type": "stream",
     "text": [
      "What is your name: HANIFA\n",
      "what is your fathers name:UMAR\n",
      "what is your country: NIGERIA\n",
      "what is your age:30\n",
      "HANIFA\n",
      "UMAR\n",
      "NIGERIA\n",
      "30\n"
     ]
    }
   ],
   "source": [
    "first_name=input('What is your name: ')\n",
    "last_name=input('what is your fathers name:')\n",
    "country=input('what is your country: ')\n",
    "age=input('what is your age:')\n",
    "print(first_name)\n",
    "print(last_name)\n",
    "print(country)\n",
    "print(age)\n",
    "                 "
   ]
  },
  {
   "cell_type": "markdown",
   "id": "af8ed73f",
   "metadata": {},
   "source": [
    "Exer 7"
   ]
  },
  {
   "cell_type": "code",
   "execution_count": 27,
   "id": "0db80e2e",
   "metadata": {},
   "outputs": [
    {
     "name": "stdout",
     "output_type": "stream",
     "text": [
      "\n",
      "Here is a list of the Python keywords.  Enter any keyword to get more help.\n",
      "\n",
      "False               break               for                 not\n",
      "None                class               from                or\n",
      "True                continue            global              pass\n",
      "__peg_parser__      def                 if                  raise\n",
      "and                 del                 import              return\n",
      "as                  elif                in                  try\n",
      "assert              else                is                  while\n",
      "async               except              lambda              with\n",
      "await               finally             nonlocal            yield\n",
      "\n"
     ]
    }
   ],
   "source": [
    "help('keywords')"
   ]
  },
  {
   "cell_type": "code",
   "execution_count": null,
   "id": "936bbb29",
   "metadata": {},
   "outputs": [],
   "source": []
  }
 ],
 "metadata": {
  "kernelspec": {
   "display_name": "Python 3 (ipykernel)",
   "language": "python",
   "name": "python3"
  },
  "language_info": {
   "codemirror_mode": {
    "name": "ipython",
    "version": 3
   },
   "file_extension": ".py",
   "mimetype": "text/x-python",
   "name": "python",
   "nbconvert_exporter": "python",
   "pygments_lexer": "ipython3",
   "version": "3.9.12"
  }
 },
 "nbformat": 4,
 "nbformat_minor": 5
}
